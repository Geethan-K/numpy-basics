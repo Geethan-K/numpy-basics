{
 "cells": [
  {
   "cell_type": "code",
   "execution_count": 7,
   "id": "ff047db3-c93c-4656-a7a2-48d80c07818d",
   "metadata": {},
   "outputs": [],
   "source": [
    "import numpy as np\n",
    "from time import process_time"
   ]
  },
  {
   "cell_type": "code",
   "execution_count": null,
   "id": "bdba9271-b1d3-4f60-8bf2-67336d67a44b",
   "metadata": {},
   "outputs": [],
   "source": [
    "## normal list speed\n",
    "\n",
    "python_list = [i for i in range(1000)]\n",
    "start_time = process_time()\n",
    "python_list = [i+5 for i in python_list]\n",
    "end_time = process_time()\n",
    "print(end_time - start_time)"
   ]
  },
  {
   "cell_type": "code",
   "execution_count": null,
   "id": "10e85e5d-a6ff-4f9d-b533-3201e731e264",
   "metadata": {},
   "outputs": [],
   "source": [
    "### numpy list\n",
    "\n",
    "np_array = np.array([i for i in range(1000)])\n",
    "start_time = process_time()\n",
    "np_array = np_array + 5\n",
    "end_time = process_time()\n",
    "print(end_time - start_time)"
   ]
  },
  {
   "cell_type": "code",
   "execution_count": null,
   "id": "feed1c8d-cb15-4820-af9f-b4c23889e9fc",
   "metadata": {},
   "outputs": [],
   "source": [
    "## numpy arrays \n",
    "\n",
    "list1 = [1,2,3,4,5]\n",
    "print(list1)\n",
    "type(list1)"
   ]
  },
  {
   "cell_type": "code",
   "execution_count": null,
   "id": "4b39424c-42b3-4008-b25f-903be546fd35",
   "metadata": {},
   "outputs": [],
   "source": [
    "np_array = np.array([1,2,3,4,5])\n",
    "print(np_array)\n",
    "type(np_array)"
   ]
  },
  {
   "cell_type": "code",
   "execution_count": null,
   "id": "b0a96917-4662-4df2-92fc-d919650993e8",
   "metadata": {},
   "outputs": [],
   "source": [
    "## Creating a 1 DIM array\n",
    "\n",
    "a = np.array([1,2,3,4,5])\n",
    "a.shape"
   ]
  },
  {
   "cell_type": "code",
   "execution_count": null,
   "id": "6bb8a314-550b-4579-99f0-5b62264aba33",
   "metadata": {},
   "outputs": [],
   "source": [
    "## 2 rows , 4 cols\n",
    "\n",
    "b = np.array([(1,2,3,4,5) , (6,7,8,9,10)])\n",
    "print(b)\n",
    "b.shape"
   ]
  },
  {
   "cell_type": "code",
   "execution_count": null,
   "id": "8912a9e4-db90-4dc2-af5c-d5e5e0688fe6",
   "metadata": {},
   "outputs": [],
   "source": [
    "### Float data\n",
    "\n",
    "c = np.array([ (1,2,3,5,4) , (6,7,8,9)] , dtype=float)\n",
    "print(c)"
   ]
  },
  {
   "cell_type": "code",
   "execution_count": null,
   "id": "90e7fcc2-6bbc-4211-93b5-edd21976d2a9",
   "metadata": {},
   "outputs": [],
   "source": [
    "### Create a numpy arrays of 0's\n",
    "\n",
    "x = np.zeros( (4,5) )\n",
    "print(x)"
   ]
  },
  {
   "cell_type": "code",
   "execution_count": null,
   "id": "9eafb599-bbb0-4da6-b95a-65f154c77d9f",
   "metadata": {},
   "outputs": [],
   "source": [
    "### create numpy array of 1's\n",
    "\n",
    "y = np.ones((3,3))\n",
    "print(y)"
   ]
  },
  {
   "cell_type": "code",
   "execution_count": null,
   "id": "d8f80ba6-c476-49f2-81aa-7baaf7850753",
   "metadata": {},
   "outputs": [],
   "source": [
    "## array of a particular value \n",
    "\n",
    "z = np.full( (5,4) , 5)\n",
    "print(z)"
   ]
  },
  {
   "cell_type": "code",
   "execution_count": null,
   "id": "7671a535-927c-4761-8ccc-9d9e2730add8",
   "metadata": {},
   "outputs": [],
   "source": [
    "### create a identity matrix\n",
    "\n",
    "a = np.eye(5)\n",
    "print(a)"
   ]
  },
  {
   "cell_type": "code",
   "execution_count": null,
   "id": "05f7c748-b942-4000-bb17-515205b13580",
   "metadata": {},
   "outputs": [],
   "source": [
    "## numpy array with random value \n",
    "\n",
    "b = np.random.random((3,4))\n",
    "print(b)"
   ]
  },
  {
   "cell_type": "code",
   "execution_count": null,
   "id": "83110179-febb-42e0-95d8-683b25322b64",
   "metadata": {},
   "outputs": [],
   "source": [
    "## random intger value within specific range with count\n",
    "\n",
    "c = np.random.randint(10,100,(3,5))\n",
    "print(c)"
   ]
  }
 ],
 "metadata": {
  "kernelspec": {
   "display_name": "Python 3 (ipykernel)",
   "language": "python",
   "name": "python3"
  },
  "language_info": {
   "codemirror_mode": {
    "name": "ipython",
    "version": 3
   },
   "file_extension": ".py",
   "mimetype": "text/x-python",
   "name": "python",
   "nbconvert_exporter": "python",
   "pygments_lexer": "ipython3",
   "version": "3.12.4"
  }
 },
 "nbformat": 4,
 "nbformat_minor": 5
}
